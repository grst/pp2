{
 "cells": [
  {
   "cell_type": "code",
   "execution_count": 1,
   "metadata": {},
   "outputs": [],
   "source": [
    "import pandas as pd\n",
    "from utils import *"
   ]
  },
  {
   "cell_type": "markdown",
   "metadata": {},
   "source": [
    "## Human Protein Atlas\n",
    "* We keep the categories \"Validated\", \"Supported\", \"Approved\"\n",
    "* the rest is [tidy data](http://garrettgman.github.io/tidying/)\n",
    "* if a protein resdies in multiple locations, it will appear in multiple lines"
   ]
  },
  {
   "cell_type": "code",
   "execution_count": 2,
   "metadata": {},
   "outputs": [],
   "source": [
    "hpa = pd.read_csv(\"./data/hpa_subcellular_location.tsv\", sep=\"\\t\")"
   ]
  },
  {
   "cell_type": "code",
   "execution_count": 3,
   "metadata": {},
   "outputs": [
    {
     "data": {
      "text/html": [
       "<div>\n",
       "<style scoped>\n",
       "    .dataframe tbody tr th:only-of-type {\n",
       "        vertical-align: middle;\n",
       "    }\n",
       "\n",
       "    .dataframe tbody tr th {\n",
       "        vertical-align: top;\n",
       "    }\n",
       "\n",
       "    .dataframe thead th {\n",
       "        text-align: right;\n",
       "    }\n",
       "</style>\n",
       "<table border=\"1\" class=\"dataframe\">\n",
       "  <thead>\n",
       "    <tr style=\"text-align: right;\">\n",
       "      <th></th>\n",
       "      <th>Gene name</th>\n",
       "      <th>status</th>\n",
       "      <th>value</th>\n",
       "    </tr>\n",
       "  </thead>\n",
       "  <tbody>\n",
       "    <tr>\n",
       "      <th>11</th>\n",
       "      <td>CYP51A1</td>\n",
       "      <td>Validated</td>\n",
       "      <td>Endoplasmic reticulum</td>\n",
       "    </tr>\n",
       "    <tr>\n",
       "      <th>14</th>\n",
       "      <td>BAD</td>\n",
       "      <td>Validated</td>\n",
       "      <td>Mitochondria</td>\n",
       "    </tr>\n",
       "    <tr>\n",
       "      <th>31</th>\n",
       "      <td>RBM5</td>\n",
       "      <td>Validated</td>\n",
       "      <td>Nucleoplasm</td>\n",
       "    </tr>\n",
       "    <tr>\n",
       "      <th>36</th>\n",
       "      <td>FKBP4</td>\n",
       "      <td>Validated</td>\n",
       "      <td>Cytosol</td>\n",
       "    </tr>\n",
       "    <tr>\n",
       "      <th>36</th>\n",
       "      <td>FKBP4</td>\n",
       "      <td>Validated</td>\n",
       "      <td>Nucleoplasm</td>\n",
       "    </tr>\n",
       "  </tbody>\n",
       "</table>\n",
       "</div>"
      ],
      "text/plain": [
       "   Gene name     status                  value\n",
       "11   CYP51A1  Validated  Endoplasmic reticulum\n",
       "14       BAD  Validated           Mitochondria\n",
       "31      RBM5  Validated            Nucleoplasm\n",
       "36     FKBP4  Validated                Cytosol\n",
       "36     FKBP4  Validated            Nucleoplasm"
      ]
     },
     "execution_count": 3,
     "metadata": {},
     "output_type": "execute_result"
    }
   ],
   "source": [
    "hpa_filtered = hpa\\\n",
    "    .loc[:,(\"Gene name\", \"Validated\", \"Supported\", \"Approved\")]\\\n",
    "    .melt(id_vars=\"Gene name\", var_name=\"status\")\\\n",
    "    .dropna()\\\n",
    "    .pipe(lambda x: tidy_split(x, 'value', ';'))\n",
    "hpa_filtered.head()"
   ]
  },
  {
   "cell_type": "code",
   "execution_count": 14,
   "metadata": {},
   "outputs": [
    {
     "data": {
      "text/plain": [
       "(18420, 3)"
      ]
     },
     "execution_count": 14,
     "metadata": {},
     "output_type": "execute_result"
    }
   ],
   "source": [
    "hpa_filtered.shape"
   ]
  },
  {
   "cell_type": "code",
   "execution_count": 4,
   "metadata": {},
   "outputs": [],
   "source": [
    "hpa_filtered.to_csv(\"./results/hpa_filtered.tsv\", sep=\"\\t\")"
   ]
  },
  {
   "cell_type": "markdown",
   "metadata": {},
   "source": [
    "## Deeploc\n",
    "* extract gene symbols from identifier\n",
    "* there are multipe entries per identifier -> isoforms\n",
    "* **For the start, we remove all genes that have isoforms with differing predicted locations**."
   ]
  },
  {
   "cell_type": "code",
   "execution_count": 5,
   "metadata": {},
   "outputs": [],
   "source": [
    "deeploc = pd.read_csv(\"./data/deeploc_predictions.txt\", sep=\"\\t\")"
   ]
  },
  {
   "cell_type": "code",
   "execution_count": 6,
   "metadata": {},
   "outputs": [
    {
     "data": {
      "text/html": [
       "<div>\n",
       "<style scoped>\n",
       "    .dataframe tbody tr th:only-of-type {\n",
       "        vertical-align: middle;\n",
       "    }\n",
       "\n",
       "    .dataframe tbody tr th {\n",
       "        vertical-align: top;\n",
       "    }\n",
       "\n",
       "    .dataframe thead th {\n",
       "        text-align: right;\n",
       "    }\n",
       "</style>\n",
       "<table border=\"1\" class=\"dataframe\">\n",
       "  <thead>\n",
       "    <tr style=\"text-align: right;\">\n",
       "      <th></th>\n",
       "      <th>gene_symbol</th>\n",
       "      <th>Prediction</th>\n",
       "    </tr>\n",
       "  </thead>\n",
       "  <tbody>\n",
       "    <tr>\n",
       "      <th>0</th>\n",
       "      <td>1433B</td>\n",
       "      <td>Cytoplasm</td>\n",
       "    </tr>\n",
       "    <tr>\n",
       "      <th>1</th>\n",
       "      <td>1433E</td>\n",
       "      <td>Cytoplasm</td>\n",
       "    </tr>\n",
       "    <tr>\n",
       "      <th>2</th>\n",
       "      <td>1433F</td>\n",
       "      <td>Cytoplasm</td>\n",
       "    </tr>\n",
       "    <tr>\n",
       "      <th>3</th>\n",
       "      <td>1433G</td>\n",
       "      <td>Cytoplasm</td>\n",
       "    </tr>\n",
       "    <tr>\n",
       "      <th>4</th>\n",
       "      <td>1433S</td>\n",
       "      <td>Cytoplasm</td>\n",
       "    </tr>\n",
       "  </tbody>\n",
       "</table>\n",
       "</div>"
      ],
      "text/plain": [
       "  gene_symbol Prediction\n",
       "0       1433B  Cytoplasm\n",
       "1       1433E  Cytoplasm\n",
       "2       1433F  Cytoplasm\n",
       "3       1433G  Cytoplasm\n",
       "4       1433S  Cytoplasm"
      ]
     },
     "execution_count": 6,
     "metadata": {},
     "output_type": "execute_result"
    }
   ],
   "source": [
    "deeploc_filtered = deeploc\\\n",
    "    .assign(gene_symbol=lambda x: x.loc[:,\"#ID\"].apply(\n",
    "        lambda k: k.split(\" \")[0].split(\"|\")[2].replace(\"_HUMAN\", \"\")))\\\n",
    "    .loc[:,(\"gene_symbol\", \"Prediction\")]\\\n",
    "    .groupby([\"gene_symbol\", \"Prediction\"])\\\n",
    "    .count()\\\n",
    "    .reset_index()\\\n",
    "    .drop_duplicates(\"gene_symbol\", keep=False)\n",
    "    \n",
    "deeploc_filtered.head()"
   ]
  },
  {
   "cell_type": "code",
   "execution_count": 13,
   "metadata": {},
   "outputs": [
    {
     "data": {
      "text/plain": [
       "(16655, 2)"
      ]
     },
     "execution_count": 13,
     "metadata": {},
     "output_type": "execute_result"
    }
   ],
   "source": [
    "deeploc_filtered.shape"
   ]
  },
  {
   "cell_type": "code",
   "execution_count": 7,
   "metadata": {},
   "outputs": [],
   "source": [
    "deeploc_filtered.to_csv(\"./results/deeploc_filtered.tsv\", sep=\"\\t\")"
   ]
  },
  {
   "cell_type": "markdown",
   "metadata": {},
   "source": [
    "## Swissprot\n",
    "* pre-parsed using perl script\n",
    "* only human proteins\n",
    "* genes with out a name are removed\n",
    "* only evidence 'ECO:0000305' (curator inference used in manual assertion) is kept."
   ]
  },
  {
   "cell_type": "code",
   "execution_count": 8,
   "metadata": {},
   "outputs": [],
   "source": [
    "swissprot = pd.read_csv(\"results/subcellular_location.swissprot.tsv\", sep=\"\\t\", na_values=[\".\"])"
   ]
  },
  {
   "cell_type": "code",
   "execution_count": 9,
   "metadata": {},
   "outputs": [
    {
     "data": {
      "text/html": [
       "<div>\n",
       "<style scoped>\n",
       "    .dataframe tbody tr th:only-of-type {\n",
       "        vertical-align: middle;\n",
       "    }\n",
       "\n",
       "    .dataframe tbody tr th {\n",
       "        vertical-align: top;\n",
       "    }\n",
       "\n",
       "    .dataframe thead th {\n",
       "        text-align: right;\n",
       "    }\n",
       "</style>\n",
       "<table border=\"1\" class=\"dataframe\">\n",
       "  <thead>\n",
       "    <tr style=\"text-align: right;\">\n",
       "      <th></th>\n",
       "      <th>uniprot_id</th>\n",
       "      <th>species</th>\n",
       "      <th>gene_name</th>\n",
       "      <th>subcellular_location</th>\n",
       "      <th>annotation_evidence</th>\n",
       "    </tr>\n",
       "  </thead>\n",
       "  <tbody>\n",
       "    <tr>\n",
       "      <th>293</th>\n",
       "      <td>Q99758</td>\n",
       "      <td>Homo sapiens</td>\n",
       "      <td>ABCA3</td>\n",
       "      <td>Membrane</td>\n",
       "      <td>ECO:0000305</td>\n",
       "    </tr>\n",
       "    <tr>\n",
       "      <th>593</th>\n",
       "      <td>Q6ZNF0</td>\n",
       "      <td>Homo sapiens</td>\n",
       "      <td>ACP7</td>\n",
       "      <td>Secreted</td>\n",
       "      <td>ECO:0000305</td>\n",
       "    </tr>\n",
       "    <tr>\n",
       "      <th>738</th>\n",
       "      <td>Q6P461</td>\n",
       "      <td>Homo sapiens</td>\n",
       "      <td>ACSM6</td>\n",
       "      <td>Mitochondrion</td>\n",
       "      <td>ECO:0000305</td>\n",
       "    </tr>\n",
       "    <tr>\n",
       "      <th>740</th>\n",
       "      <td>Q9H6R3</td>\n",
       "      <td>Homo sapiens</td>\n",
       "      <td>ACSS3</td>\n",
       "      <td>Mitochondrion</td>\n",
       "      <td>ECO:0000305</td>\n",
       "    </tr>\n",
       "    <tr>\n",
       "      <th>771</th>\n",
       "      <td>Q5VUY2</td>\n",
       "      <td>Homo sapiens</td>\n",
       "      <td>AADACL4</td>\n",
       "      <td>Membrane</td>\n",
       "      <td>ECO:0000305</td>\n",
       "    </tr>\n",
       "  </tbody>\n",
       "</table>\n",
       "</div>"
      ],
      "text/plain": [
       "    uniprot_id       species gene_name subcellular_location  \\\n",
       "293     Q99758  Homo sapiens     ABCA3             Membrane   \n",
       "593     Q6ZNF0  Homo sapiens      ACP7             Secreted   \n",
       "738     Q6P461  Homo sapiens     ACSM6        Mitochondrion   \n",
       "740     Q9H6R3  Homo sapiens     ACSS3        Mitochondrion   \n",
       "771     Q5VUY2  Homo sapiens   AADACL4             Membrane   \n",
       "\n",
       "    annotation_evidence  \n",
       "293         ECO:0000305  \n",
       "593         ECO:0000305  \n",
       "738         ECO:0000305  \n",
       "740         ECO:0000305  \n",
       "771         ECO:0000305  "
      ]
     },
     "execution_count": 9,
     "metadata": {},
     "output_type": "execute_result"
    }
   ],
   "source": [
    "swissprot_filtered = swissprot\\\n",
    "    .query(\"annotation_source == 'SwissProt'\")\\\n",
    "    .query(\"species == 'Homo sapiens'\")\\\n",
    "    .query(\"annotation_evidence == 'ECO:0000305'\")\\\n",
    "    .dropna()\\\n",
    "    .drop(\"annotation_source\", axis='columns')\n",
    "    \n",
    "swissprot_filtered.head()"
   ]
  },
  {
   "cell_type": "code",
   "execution_count": 12,
   "metadata": {},
   "outputs": [
    {
     "data": {
      "text/plain": [
       "(4374, 5)"
      ]
     },
     "execution_count": 12,
     "metadata": {},
     "output_type": "execute_result"
    }
   ],
   "source": [
    "swissprot_filtered.shape"
   ]
  },
  {
   "cell_type": "code",
   "execution_count": 10,
   "metadata": {},
   "outputs": [],
   "source": [
    "swissprot_filtered.to_csv(\"./results/swissprot_filtered.tsv\", sep=\"\\t\")"
   ]
  },
  {
   "cell_type": "code",
   "execution_count": null,
   "metadata": {},
   "outputs": [],
   "source": []
  }
 ],
 "metadata": {
  "kernelspec": {
   "display_name": "Python 3",
   "language": "python",
   "name": "python3"
  },
  "language_info": {
   "codemirror_mode": {
    "name": "ipython",
    "version": 3
   },
   "file_extension": ".py",
   "mimetype": "text/x-python",
   "name": "python",
   "nbconvert_exporter": "python",
   "pygments_lexer": "ipython3",
   "version": "3.6.3"
  }
 },
 "nbformat": 4,
 "nbformat_minor": 2
}
