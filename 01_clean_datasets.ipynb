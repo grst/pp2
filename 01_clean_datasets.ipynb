{
 "cells": [
  {
   "cell_type": "code",
   "execution_count": 1,
   "metadata": {},
   "outputs": [],
   "source": [
    "import pandas as pd\n",
    "from utils import *\n",
    "import numpy as np"
   ]
  },
  {
   "cell_type": "markdown",
   "metadata": {},
   "source": [
    "## Human Protein Atlas\n",
    "* We keep the categories \"Validated\", \"Supported\", \"Approved\"\n",
    "* the rest is [tidy data](http://garrettgman.github.io/tidying/)\n",
    "* if a protein resdies in multiple locations, it will appear in multiple lines"
   ]
  },
  {
   "cell_type": "code",
   "execution_count": 2,
   "metadata": {},
   "outputs": [],
   "source": [
    "hpa = pd.read_csv(\"./data/hpa_subcellular_location.tsv\", sep=\"\\t\")"
   ]
  },
  {
   "cell_type": "code",
   "execution_count": 3,
   "metadata": {},
   "outputs": [
    {
     "data": {
      "text/html": [
       "<div>\n",
       "<style scoped>\n",
       "    .dataframe tbody tr th:only-of-type {\n",
       "        vertical-align: middle;\n",
       "    }\n",
       "\n",
       "    .dataframe tbody tr th {\n",
       "        vertical-align: top;\n",
       "    }\n",
       "\n",
       "    .dataframe thead th {\n",
       "        text-align: right;\n",
       "    }\n",
       "</style>\n",
       "<table border=\"1\" class=\"dataframe\">\n",
       "  <thead>\n",
       "    <tr style=\"text-align: right;\">\n",
       "      <th></th>\n",
       "      <th>hgnc</th>\n",
       "      <th>status</th>\n",
       "      <th>subcellular_location</th>\n",
       "    </tr>\n",
       "  </thead>\n",
       "  <tbody>\n",
       "    <tr>\n",
       "      <th>11</th>\n",
       "      <td>CYP51A1</td>\n",
       "      <td>Validated</td>\n",
       "      <td>Endoplasmic reticulum</td>\n",
       "    </tr>\n",
       "    <tr>\n",
       "      <th>14</th>\n",
       "      <td>BAD</td>\n",
       "      <td>Validated</td>\n",
       "      <td>Mitochondria</td>\n",
       "    </tr>\n",
       "    <tr>\n",
       "      <th>31</th>\n",
       "      <td>RBM5</td>\n",
       "      <td>Validated</td>\n",
       "      <td>Nucleoplasm</td>\n",
       "    </tr>\n",
       "    <tr>\n",
       "      <th>36</th>\n",
       "      <td>FKBP4</td>\n",
       "      <td>Validated</td>\n",
       "      <td>Cytosol</td>\n",
       "    </tr>\n",
       "    <tr>\n",
       "      <th>36</th>\n",
       "      <td>FKBP4</td>\n",
       "      <td>Validated</td>\n",
       "      <td>Nucleoplasm</td>\n",
       "    </tr>\n",
       "  </tbody>\n",
       "</table>\n",
       "</div>"
      ],
      "text/plain": [
       "       hgnc     status   subcellular_location\n",
       "11  CYP51A1  Validated  Endoplasmic reticulum\n",
       "14      BAD  Validated           Mitochondria\n",
       "31     RBM5  Validated            Nucleoplasm\n",
       "36    FKBP4  Validated                Cytosol\n",
       "36    FKBP4  Validated            Nucleoplasm"
      ]
     },
     "execution_count": 3,
     "metadata": {},
     "output_type": "execute_result"
    }
   ],
   "source": [
    "hpa_filtered = hpa\\\n",
    "    .loc[:,(\"Gene name\", \"Validated\", \"Supported\", \"Approved\")]\\\n",
    "    .melt(id_vars=\"Gene name\", var_name=\"status\", value_name=\"subcellular_location\")\\\n",
    "    .rename(columns={\"Gene name\": \"hgnc\"})\\\n",
    "    .dropna()\\\n",
    "    .pipe(lambda x: tidy_split(x, 'subcellular_location', ';'))\n",
    "hpa_filtered.head()"
   ]
  },
  {
   "cell_type": "code",
   "execution_count": 4,
   "metadata": {},
   "outputs": [
    {
     "data": {
      "text/plain": [
       "(18420, 3)"
      ]
     },
     "execution_count": 4,
     "metadata": {},
     "output_type": "execute_result"
    }
   ],
   "source": [
    "hpa_filtered.shape"
   ]
  },
  {
   "cell_type": "code",
   "execution_count": 5,
   "metadata": {},
   "outputs": [],
   "source": [
    "hpa_filtered.to_csv(\"./results/hpa_filtered.tsv\", sep=\"\\t\", index=False)"
   ]
  },
  {
   "cell_type": "markdown",
   "metadata": {},
   "source": [
    "## Deeploc\n",
    "* extract uniprot identifiers from ID and map them to HGNC symbols\n",
    "    * the SYMBOL_HUMAN is some weird identifier, but not HGNC\n",
    "    * the mapping was obtained from ensemble biomart\n",
    "* there are multipe entries per identifier -> isoforms\n",
    "* **For the start, we remove all genes that have isoforms with differing predicted locations**.\n",
    "* Remove predictions predicted as Plastid (does not exist in human)"
   ]
  },
  {
   "cell_type": "code",
   "execution_count": 6,
   "metadata": {},
   "outputs": [
    {
     "data": {
      "text/html": [
       "<div>\n",
       "<style scoped>\n",
       "    .dataframe tbody tr th:only-of-type {\n",
       "        vertical-align: middle;\n",
       "    }\n",
       "\n",
       "    .dataframe tbody tr th {\n",
       "        vertical-align: top;\n",
       "    }\n",
       "\n",
       "    .dataframe thead th {\n",
       "        text-align: right;\n",
       "    }\n",
       "</style>\n",
       "<table border=\"1\" class=\"dataframe\">\n",
       "  <thead>\n",
       "    <tr style=\"text-align: right;\">\n",
       "      <th></th>\n",
       "      <th>hgnc</th>\n",
       "    </tr>\n",
       "    <tr>\n",
       "      <th>uniprot</th>\n",
       "      <th></th>\n",
       "    </tr>\n",
       "  </thead>\n",
       "  <tbody>\n",
       "    <tr>\n",
       "      <th>U5Z754</th>\n",
       "      <td>MT-ND1</td>\n",
       "    </tr>\n",
       "    <tr>\n",
       "      <th>P03886</th>\n",
       "      <td>MT-ND1</td>\n",
       "    </tr>\n",
       "    <tr>\n",
       "      <th>Q7GXY9</th>\n",
       "      <td>MT-ND2</td>\n",
       "    </tr>\n",
       "    <tr>\n",
       "      <th>P03891</th>\n",
       "      <td>MT-ND2</td>\n",
       "    </tr>\n",
       "    <tr>\n",
       "      <th>U5YWV7</th>\n",
       "      <td>MT-CO1</td>\n",
       "    </tr>\n",
       "  </tbody>\n",
       "</table>\n",
       "</div>"
      ],
      "text/plain": [
       "           hgnc\n",
       "uniprot        \n",
       "U5Z754   MT-ND1\n",
       "P03886   MT-ND1\n",
       "Q7GXY9   MT-ND2\n",
       "P03891   MT-ND2\n",
       "U5YWV7   MT-CO1"
      ]
     },
     "execution_count": 6,
     "metadata": {},
     "output_type": "execute_result"
    }
   ],
   "source": [
    "uniprot_hgnc = pd.read_csv(\"./data/biomart_hgnc_uniprot.tsv\", sep=\"\\t\")\\\n",
    "    .rename(columns={\"HGNC symbol\": 'hgnc', \"UniProtKB Gene Name ID\": 'uniprot'})\\\n",
    "    .dropna()\\\n",
    "    .set_index(\"uniprot\")\n",
    "uniprot_hgnc.head()"
   ]
  },
  {
   "cell_type": "code",
   "execution_count": 7,
   "metadata": {},
   "outputs": [],
   "source": [
    "deeploc = pd.read_csv(\"./data/deeploc_predictions.txt\", sep=\"\\t\")"
   ]
  },
  {
   "cell_type": "code",
   "execution_count": 8,
   "metadata": {},
   "outputs": [
    {
     "data": {
      "text/html": [
       "<div>\n",
       "<style scoped>\n",
       "    .dataframe tbody tr th:only-of-type {\n",
       "        vertical-align: middle;\n",
       "    }\n",
       "\n",
       "    .dataframe tbody tr th {\n",
       "        vertical-align: top;\n",
       "    }\n",
       "\n",
       "    .dataframe thead th {\n",
       "        text-align: right;\n",
       "    }\n",
       "</style>\n",
       "<table border=\"1\" class=\"dataframe\">\n",
       "  <thead>\n",
       "    <tr style=\"text-align: right;\">\n",
       "      <th></th>\n",
       "      <th>#ID</th>\n",
       "      <th>Prediction</th>\n",
       "      <th>Membrane-bound</th>\n",
       "      <th>Nucleus</th>\n",
       "      <th>Cytoplasm</th>\n",
       "      <th>Extracellular</th>\n",
       "      <th>Mitochondrion</th>\n",
       "      <th>Cell_membrane</th>\n",
       "      <th>Endoplasmic_reticulum</th>\n",
       "      <th>Plastid</th>\n",
       "      <th>Golgi_apparatus</th>\n",
       "      <th>Lysosome/Vacuole</th>\n",
       "      <th>Peroxisome</th>\n",
       "    </tr>\n",
       "  </thead>\n",
       "  <tbody>\n",
       "    <tr>\n",
       "      <th>0</th>\n",
       "      <td>sp|Q96MY7-2|F161B_HUMAN Isoform 2 of Protein F...</td>\n",
       "      <td>Nucleus</td>\n",
       "      <td>0.0787</td>\n",
       "      <td>0.5774</td>\n",
       "      <td>0.4075</td>\n",
       "      <td>0.0001</td>\n",
       "      <td>0.0003</td>\n",
       "      <td>0.0117</td>\n",
       "      <td>0.0002</td>\n",
       "      <td>0.0001</td>\n",
       "      <td>0.0019</td>\n",
       "      <td>0.0006</td>\n",
       "      <td>0.0003</td>\n",
       "    </tr>\n",
       "    <tr>\n",
       "      <th>1</th>\n",
       "      <td>sp|Q92541|RTF1_HUMAN RNA polymerase-associated...</td>\n",
       "      <td>Nucleus</td>\n",
       "      <td>0.3232</td>\n",
       "      <td>0.9968</td>\n",
       "      <td>0.0016</td>\n",
       "      <td>0.0000</td>\n",
       "      <td>0.0013</td>\n",
       "      <td>0.0001</td>\n",
       "      <td>0.0000</td>\n",
       "      <td>0.0000</td>\n",
       "      <td>0.0001</td>\n",
       "      <td>0.0000</td>\n",
       "      <td>0.0000</td>\n",
       "    </tr>\n",
       "    <tr>\n",
       "      <th>2</th>\n",
       "      <td>sp|Q8N5V2|NGEF_HUMAN Ephexin-1 OS=Homo sapiens...</td>\n",
       "      <td>Nucleus</td>\n",
       "      <td>0.0188</td>\n",
       "      <td>0.7316</td>\n",
       "      <td>0.2641</td>\n",
       "      <td>0.0000</td>\n",
       "      <td>0.0001</td>\n",
       "      <td>0.0016</td>\n",
       "      <td>0.0004</td>\n",
       "      <td>0.0000</td>\n",
       "      <td>0.0015</td>\n",
       "      <td>0.0005</td>\n",
       "      <td>0.0001</td>\n",
       "    </tr>\n",
       "    <tr>\n",
       "      <th>3</th>\n",
       "      <td>sp|Q8IXQ6-3|PARP9_HUMAN Isoform 3 of Poly [ADP...</td>\n",
       "      <td>Cytoplasm</td>\n",
       "      <td>0.1902</td>\n",
       "      <td>0.1717</td>\n",
       "      <td>0.5183</td>\n",
       "      <td>0.0063</td>\n",
       "      <td>0.0338</td>\n",
       "      <td>0.0448</td>\n",
       "      <td>0.0365</td>\n",
       "      <td>0.0119</td>\n",
       "      <td>0.0347</td>\n",
       "      <td>0.0412</td>\n",
       "      <td>0.1008</td>\n",
       "    </tr>\n",
       "    <tr>\n",
       "      <th>4</th>\n",
       "      <td>sp|Q6ZW61|BBS12_HUMAN Bardet-Biedl syndrome 12...</td>\n",
       "      <td>Cytoplasm</td>\n",
       "      <td>0.2224</td>\n",
       "      <td>0.3059</td>\n",
       "      <td>0.4059</td>\n",
       "      <td>0.0013</td>\n",
       "      <td>0.1320</td>\n",
       "      <td>0.0365</td>\n",
       "      <td>0.0180</td>\n",
       "      <td>0.0026</td>\n",
       "      <td>0.0463</td>\n",
       "      <td>0.0303</td>\n",
       "      <td>0.0212</td>\n",
       "    </tr>\n",
       "  </tbody>\n",
       "</table>\n",
       "</div>"
      ],
      "text/plain": [
       "                                                 #ID Prediction  \\\n",
       "0  sp|Q96MY7-2|F161B_HUMAN Isoform 2 of Protein F...    Nucleus   \n",
       "1  sp|Q92541|RTF1_HUMAN RNA polymerase-associated...    Nucleus   \n",
       "2  sp|Q8N5V2|NGEF_HUMAN Ephexin-1 OS=Homo sapiens...    Nucleus   \n",
       "3  sp|Q8IXQ6-3|PARP9_HUMAN Isoform 3 of Poly [ADP...  Cytoplasm   \n",
       "4  sp|Q6ZW61|BBS12_HUMAN Bardet-Biedl syndrome 12...  Cytoplasm   \n",
       "\n",
       "   Membrane-bound  Nucleus  Cytoplasm  Extracellular  Mitochondrion  \\\n",
       "0          0.0787   0.5774     0.4075         0.0001         0.0003   \n",
       "1          0.3232   0.9968     0.0016         0.0000         0.0013   \n",
       "2          0.0188   0.7316     0.2641         0.0000         0.0001   \n",
       "3          0.1902   0.1717     0.5183         0.0063         0.0338   \n",
       "4          0.2224   0.3059     0.4059         0.0013         0.1320   \n",
       "\n",
       "   Cell_membrane  Endoplasmic_reticulum  Plastid  Golgi_apparatus  \\\n",
       "0         0.0117                 0.0002   0.0001           0.0019   \n",
       "1         0.0001                 0.0000   0.0000           0.0001   \n",
       "2         0.0016                 0.0004   0.0000           0.0015   \n",
       "3         0.0448                 0.0365   0.0119           0.0347   \n",
       "4         0.0365                 0.0180   0.0026           0.0463   \n",
       "\n",
       "   Lysosome/Vacuole  Peroxisome  \n",
       "0            0.0006      0.0003  \n",
       "1            0.0000      0.0000  \n",
       "2            0.0005      0.0001  \n",
       "3            0.0412      0.1008  \n",
       "4            0.0303      0.0212  "
      ]
     },
     "execution_count": 8,
     "metadata": {},
     "output_type": "execute_result"
    }
   ],
   "source": [
    "deeploc.head()"
   ]
  },
  {
   "cell_type": "code",
   "execution_count": 9,
   "metadata": {},
   "outputs": [],
   "source": [
    "def get_isoform(id_):\n",
    "    try:\n",
    "        return int(id_.split(\"|\")[1].split(\"-\")[1])\n",
    "    except IndexError:\n",
    "        return np.nan\n",
    "    \n",
    "def get_uniprot_id(id_):\n",
    "    return id_.split(\"|\")[1].split(\"-\")[0]"
   ]
  },
  {
   "cell_type": "code",
   "execution_count": 10,
   "metadata": {},
   "outputs": [
    {
     "data": {
      "text/html": [
       "<div>\n",
       "<style scoped>\n",
       "    .dataframe tbody tr th:only-of-type {\n",
       "        vertical-align: middle;\n",
       "    }\n",
       "\n",
       "    .dataframe tbody tr th {\n",
       "        vertical-align: top;\n",
       "    }\n",
       "\n",
       "    .dataframe thead th {\n",
       "        text-align: right;\n",
       "    }\n",
       "</style>\n",
       "<table border=\"1\" class=\"dataframe\">\n",
       "  <thead>\n",
       "    <tr style=\"text-align: right;\">\n",
       "      <th></th>\n",
       "      <th>hgnc</th>\n",
       "      <th>Prediction</th>\n",
       "    </tr>\n",
       "  </thead>\n",
       "  <tbody>\n",
       "    <tr>\n",
       "      <th>4</th>\n",
       "      <td>A2M</td>\n",
       "      <td>Extracellular</td>\n",
       "    </tr>\n",
       "    <tr>\n",
       "      <th>7</th>\n",
       "      <td>A3GALT2</td>\n",
       "      <td>Endoplasmic_reticulum</td>\n",
       "    </tr>\n",
       "    <tr>\n",
       "      <th>8</th>\n",
       "      <td>A4GALT</td>\n",
       "      <td>Golgi_apparatus</td>\n",
       "    </tr>\n",
       "    <tr>\n",
       "      <th>9</th>\n",
       "      <td>A4GNT</td>\n",
       "      <td>Golgi_apparatus</td>\n",
       "    </tr>\n",
       "    <tr>\n",
       "      <th>10</th>\n",
       "      <td>AAAS</td>\n",
       "      <td>Nucleus</td>\n",
       "    </tr>\n",
       "  </tbody>\n",
       "</table>\n",
       "</div>"
      ],
      "text/plain": [
       "       hgnc             Prediction\n",
       "4       A2M          Extracellular\n",
       "7   A3GALT2  Endoplasmic_reticulum\n",
       "8    A4GALT        Golgi_apparatus\n",
       "9     A4GNT        Golgi_apparatus\n",
       "10     AAAS                Nucleus"
      ]
     },
     "execution_count": 10,
     "metadata": {},
     "output_type": "execute_result"
    }
   ],
   "source": [
    "deeploc_filtered = deeploc\\\n",
    "    .assign(isoform=lambda x: x.loc[:, \"#ID\"].apply(get_isoform))\\\n",
    "    .assign(uniprot=lambda x: x.loc[:, \"#ID\"].apply(get_uniprot_id))\\\n",
    "    .join(uniprot_hgnc, on=\"uniprot\", how=\"inner\")\\\n",
    "    .loc[:,(\"hgnc\", \"Prediction\")]\\\n",
    "    .groupby([\"hgnc\", \"Prediction\"])\\\n",
    "    .count()\\\n",
    "    .reset_index()\\\n",
    "    .drop_duplicates(\"hgnc\", keep=False)\\\n",
    "    .query(\"Prediction != 'Plastid'\")\n",
    "    \n",
    "deeploc_filtered.head()"
   ]
  },
  {
   "cell_type": "code",
   "execution_count": 11,
   "metadata": {},
   "outputs": [
    {
     "data": {
      "text/plain": [
       "(14845, 2)"
      ]
     },
     "execution_count": 11,
     "metadata": {},
     "output_type": "execute_result"
    }
   ],
   "source": [
    "deeploc_filtered.shape"
   ]
  },
  {
   "cell_type": "code",
   "execution_count": 12,
   "metadata": {},
   "outputs": [],
   "source": [
    "deeploc_filtered.to_csv(\"./results/deeploc_filtered.tsv\", sep=\"\\t\", index=False)"
   ]
  },
  {
   "cell_type": "markdown",
   "metadata": {},
   "source": [
    "## Swissprot\n",
    "* pre-parsed using perl script\n",
    "* only human proteins\n",
    "* genes with out a name are removed\n",
    "* only evidence 'ECO:0000305' (curator inference used in manual assertion) is kept."
   ]
  },
  {
   "cell_type": "code",
   "execution_count": 13,
   "metadata": {},
   "outputs": [],
   "source": [
    "swissprot = pd.read_csv(\"results/subcellular_location.swissprot.tsv\", sep=\"\\t\", na_values=[\".\"])"
   ]
  },
  {
   "cell_type": "code",
   "execution_count": 14,
   "metadata": {},
   "outputs": [
    {
     "data": {
      "text/html": [
       "<div>\n",
       "<style scoped>\n",
       "    .dataframe tbody tr th:only-of-type {\n",
       "        vertical-align: middle;\n",
       "    }\n",
       "\n",
       "    .dataframe tbody tr th {\n",
       "        vertical-align: top;\n",
       "    }\n",
       "\n",
       "    .dataframe thead th {\n",
       "        text-align: right;\n",
       "    }\n",
       "</style>\n",
       "<table border=\"1\" class=\"dataframe\">\n",
       "  <thead>\n",
       "    <tr style=\"text-align: right;\">\n",
       "      <th></th>\n",
       "      <th>uniprot_id</th>\n",
       "      <th>species</th>\n",
       "      <th>hgnc</th>\n",
       "      <th>subcellular_location</th>\n",
       "      <th>annotation_evidence</th>\n",
       "    </tr>\n",
       "  </thead>\n",
       "  <tbody>\n",
       "    <tr>\n",
       "      <th>133</th>\n",
       "      <td>Q9NRA8</td>\n",
       "      <td>Homo sapiens</td>\n",
       "      <td>EIF4ENIF1</td>\n",
       "      <td>Cytoplasm</td>\n",
       "      <td>ECO:0000269</td>\n",
       "    </tr>\n",
       "    <tr>\n",
       "      <th>134</th>\n",
       "      <td>Q9NRA8</td>\n",
       "      <td>Homo sapiens</td>\n",
       "      <td>EIF4ENIF1</td>\n",
       "      <td>Nucleus</td>\n",
       "      <td>ECO:0000269</td>\n",
       "    </tr>\n",
       "    <tr>\n",
       "      <th>135</th>\n",
       "      <td>Q9NRA8</td>\n",
       "      <td>Homo sapiens</td>\n",
       "      <td>EIF4ENIF1</td>\n",
       "      <td>Nucleus</td>\n",
       "      <td>ECO:0000269</td>\n",
       "    </tr>\n",
       "    <tr>\n",
       "      <th>136</th>\n",
       "      <td>Q9NRA8</td>\n",
       "      <td>Homo sapiens</td>\n",
       "      <td>EIF4ENIF1</td>\n",
       "      <td>Nucleus speckle</td>\n",
       "      <td>ECO:0000269</td>\n",
       "    </tr>\n",
       "    <tr>\n",
       "      <th>151</th>\n",
       "      <td>Q676U5</td>\n",
       "      <td>Homo sapiens</td>\n",
       "      <td>ATG16L1</td>\n",
       "      <td>Cytoplasm</td>\n",
       "      <td>ECO:0000269</td>\n",
       "    </tr>\n",
       "  </tbody>\n",
       "</table>\n",
       "</div>"
      ],
      "text/plain": [
       "    uniprot_id       species       hgnc subcellular_location  \\\n",
       "133     Q9NRA8  Homo sapiens  EIF4ENIF1            Cytoplasm   \n",
       "134     Q9NRA8  Homo sapiens  EIF4ENIF1              Nucleus   \n",
       "135     Q9NRA8  Homo sapiens  EIF4ENIF1              Nucleus   \n",
       "136     Q9NRA8  Homo sapiens  EIF4ENIF1      Nucleus speckle   \n",
       "151     Q676U5  Homo sapiens    ATG16L1            Cytoplasm   \n",
       "\n",
       "    annotation_evidence  \n",
       "133         ECO:0000269  \n",
       "134         ECO:0000269  \n",
       "135         ECO:0000269  \n",
       "136         ECO:0000269  \n",
       "151         ECO:0000269  "
      ]
     },
     "execution_count": 14,
     "metadata": {},
     "output_type": "execute_result"
    }
   ],
   "source": [
    "swissprot_filtered = swissprot\\\n",
    "    .query(\"annotation_source == 'SwissProt'\")\\\n",
    "    .query(\"species == 'Homo sapiens'\")\\\n",
    "    .query(\"annotation_evidence == 'ECO:0000269'\")\\\n",
    "    .dropna()\\\n",
    "    .drop(\"annotation_source\", axis='columns')\\\n",
    "    .rename(columns={\"gene_name\": \"hgnc\"})\n",
    "    \n",
    "swissprot_filtered.head()"
   ]
  },
  {
   "cell_type": "code",
   "execution_count": 15,
   "metadata": {},
   "outputs": [
    {
     "data": {
      "text/plain": [
       "(8062, 5)"
      ]
     },
     "execution_count": 15,
     "metadata": {},
     "output_type": "execute_result"
    }
   ],
   "source": [
    "swissprot_filtered.shape"
   ]
  },
  {
   "cell_type": "code",
   "execution_count": 16,
   "metadata": {},
   "outputs": [],
   "source": [
    "swissprot_filtered.to_csv(\"./results/swissprot_filtered.tsv\", sep=\"\\t\", index=False)"
   ]
  },
  {
   "cell_type": "code",
   "execution_count": null,
   "metadata": {},
   "outputs": [],
   "source": []
  }
 ],
 "metadata": {
  "kernelspec": {
   "display_name": "Python 3",
   "language": "python",
   "name": "python3"
  },
  "language_info": {
   "codemirror_mode": {
    "name": "ipython",
    "version": 3
   },
   "file_extension": ".py",
   "mimetype": "text/x-python",
   "name": "python",
   "nbconvert_exporter": "python",
   "pygments_lexer": "ipython3",
   "version": "3.6.3"
  }
 },
 "nbformat": 4,
 "nbformat_minor": 2
}
