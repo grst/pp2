{
 "cells": [
  {
   "cell_type": "code",
   "execution_count": 9,
   "metadata": {},
   "outputs": [],
   "source": [
    "import pandas as pd\n",
    "from matplotlib_venn import venn3\n",
    "from pylab import * \n",
    "%matplotlib inline\n",
    "matplotlib.rc('font', size=14)"
   ]
  },
  {
   "cell_type": "markdown",
   "metadata": {},
   "source": [
    "## Load data"
   ]
  },
  {
   "cell_type": "code",
   "execution_count": 10,
   "metadata": {},
   "outputs": [
    {
     "data": {
      "text/html": [
       "<div>\n",
       "<style scoped>\n",
       "    .dataframe tbody tr th:only-of-type {\n",
       "        vertical-align: middle;\n",
       "    }\n",
       "\n",
       "    .dataframe tbody tr th {\n",
       "        vertical-align: top;\n",
       "    }\n",
       "\n",
       "    .dataframe thead th {\n",
       "        text-align: right;\n",
       "    }\n",
       "</style>\n",
       "<table border=\"1\" class=\"dataframe\">\n",
       "  <thead>\n",
       "    <tr style=\"text-align: right;\">\n",
       "      <th></th>\n",
       "      <th>hgnc</th>\n",
       "      <th>status</th>\n",
       "      <th>subcellular_location</th>\n",
       "    </tr>\n",
       "  </thead>\n",
       "  <tbody>\n",
       "    <tr>\n",
       "      <th>0</th>\n",
       "      <td>CYP51A1</td>\n",
       "      <td>Validated</td>\n",
       "      <td>Endoplasmic reticulum</td>\n",
       "    </tr>\n",
       "    <tr>\n",
       "      <th>1</th>\n",
       "      <td>BAD</td>\n",
       "      <td>Validated</td>\n",
       "      <td>Mitochondria</td>\n",
       "    </tr>\n",
       "    <tr>\n",
       "      <th>2</th>\n",
       "      <td>RBM5</td>\n",
       "      <td>Validated</td>\n",
       "      <td>Nucleoplasm</td>\n",
       "    </tr>\n",
       "    <tr>\n",
       "      <th>3</th>\n",
       "      <td>FKBP4</td>\n",
       "      <td>Validated</td>\n",
       "      <td>Cytosol</td>\n",
       "    </tr>\n",
       "    <tr>\n",
       "      <th>4</th>\n",
       "      <td>FKBP4</td>\n",
       "      <td>Validated</td>\n",
       "      <td>Nucleoplasm</td>\n",
       "    </tr>\n",
       "  </tbody>\n",
       "</table>\n",
       "</div>"
      ],
      "text/plain": [
       "      hgnc     status   subcellular_location\n",
       "0  CYP51A1  Validated  Endoplasmic reticulum\n",
       "1      BAD  Validated           Mitochondria\n",
       "2     RBM5  Validated            Nucleoplasm\n",
       "3    FKBP4  Validated                Cytosol\n",
       "4    FKBP4  Validated            Nucleoplasm"
      ]
     },
     "execution_count": 10,
     "metadata": {},
     "output_type": "execute_result"
    }
   ],
   "source": [
    "hpa = pd.read_csv(\"./results/hpa_filtered.tsv\", sep=\"\\t\")\n",
    "hpa.head()"
   ]
  },
  {
   "cell_type": "code",
   "execution_count": 11,
   "metadata": {},
   "outputs": [
    {
     "data": {
      "text/html": [
       "<div>\n",
       "<style scoped>\n",
       "    .dataframe tbody tr th:only-of-type {\n",
       "        vertical-align: middle;\n",
       "    }\n",
       "\n",
       "    .dataframe tbody tr th {\n",
       "        vertical-align: top;\n",
       "    }\n",
       "\n",
       "    .dataframe thead th {\n",
       "        text-align: right;\n",
       "    }\n",
       "</style>\n",
       "<table border=\"1\" class=\"dataframe\">\n",
       "  <thead>\n",
       "    <tr style=\"text-align: right;\">\n",
       "      <th></th>\n",
       "      <th>uniprot_id</th>\n",
       "      <th>species</th>\n",
       "      <th>hgnc</th>\n",
       "      <th>subcellular_location</th>\n",
       "      <th>annotation_evidence</th>\n",
       "    </tr>\n",
       "  </thead>\n",
       "  <tbody>\n",
       "    <tr>\n",
       "      <th>0</th>\n",
       "      <td>Q9NRA8</td>\n",
       "      <td>Homo sapiens</td>\n",
       "      <td>EIF4ENIF1</td>\n",
       "      <td>Cytoplasm</td>\n",
       "      <td>ECO:0000269</td>\n",
       "    </tr>\n",
       "    <tr>\n",
       "      <th>1</th>\n",
       "      <td>Q9NRA8</td>\n",
       "      <td>Homo sapiens</td>\n",
       "      <td>EIF4ENIF1</td>\n",
       "      <td>Nucleus</td>\n",
       "      <td>ECO:0000269</td>\n",
       "    </tr>\n",
       "    <tr>\n",
       "      <th>2</th>\n",
       "      <td>Q9NRA8</td>\n",
       "      <td>Homo sapiens</td>\n",
       "      <td>EIF4ENIF1</td>\n",
       "      <td>Nucleus</td>\n",
       "      <td>ECO:0000269</td>\n",
       "    </tr>\n",
       "    <tr>\n",
       "      <th>3</th>\n",
       "      <td>Q9NRA8</td>\n",
       "      <td>Homo sapiens</td>\n",
       "      <td>EIF4ENIF1</td>\n",
       "      <td>Nucleus speckle</td>\n",
       "      <td>ECO:0000269</td>\n",
       "    </tr>\n",
       "    <tr>\n",
       "      <th>4</th>\n",
       "      <td>Q676U5</td>\n",
       "      <td>Homo sapiens</td>\n",
       "      <td>ATG16L1</td>\n",
       "      <td>Cytoplasm</td>\n",
       "      <td>ECO:0000269</td>\n",
       "    </tr>\n",
       "  </tbody>\n",
       "</table>\n",
       "</div>"
      ],
      "text/plain": [
       "  uniprot_id       species       hgnc subcellular_location annotation_evidence\n",
       "0     Q9NRA8  Homo sapiens  EIF4ENIF1            Cytoplasm         ECO:0000269\n",
       "1     Q9NRA8  Homo sapiens  EIF4ENIF1              Nucleus         ECO:0000269\n",
       "2     Q9NRA8  Homo sapiens  EIF4ENIF1              Nucleus         ECO:0000269\n",
       "3     Q9NRA8  Homo sapiens  EIF4ENIF1      Nucleus speckle         ECO:0000269\n",
       "4     Q676U5  Homo sapiens    ATG16L1            Cytoplasm         ECO:0000269"
      ]
     },
     "execution_count": 11,
     "metadata": {},
     "output_type": "execute_result"
    }
   ],
   "source": [
    "swissprot = pd.read_csv(\"./results/swissprot_filtered.tsv\", sep=\"\\t\")\n",
    "swissprot.head()"
   ]
  },
  {
   "cell_type": "code",
   "execution_count": 12,
   "metadata": {},
   "outputs": [
    {
     "data": {
      "text/html": [
       "<div>\n",
       "<style scoped>\n",
       "    .dataframe tbody tr th:only-of-type {\n",
       "        vertical-align: middle;\n",
       "    }\n",
       "\n",
       "    .dataframe tbody tr th {\n",
       "        vertical-align: top;\n",
       "    }\n",
       "\n",
       "    .dataframe thead th {\n",
       "        text-align: right;\n",
       "    }\n",
       "</style>\n",
       "<table border=\"1\" class=\"dataframe\">\n",
       "  <thead>\n",
       "    <tr style=\"text-align: right;\">\n",
       "      <th></th>\n",
       "      <th>hgnc</th>\n",
       "      <th>Prediction</th>\n",
       "    </tr>\n",
       "  </thead>\n",
       "  <tbody>\n",
       "    <tr>\n",
       "      <th>0</th>\n",
       "      <td>A2M</td>\n",
       "      <td>Extracellular</td>\n",
       "    </tr>\n",
       "    <tr>\n",
       "      <th>1</th>\n",
       "      <td>A3GALT2</td>\n",
       "      <td>Endoplasmic_reticulum</td>\n",
       "    </tr>\n",
       "    <tr>\n",
       "      <th>2</th>\n",
       "      <td>A4GALT</td>\n",
       "      <td>Golgi_apparatus</td>\n",
       "    </tr>\n",
       "    <tr>\n",
       "      <th>3</th>\n",
       "      <td>A4GNT</td>\n",
       "      <td>Golgi_apparatus</td>\n",
       "    </tr>\n",
       "    <tr>\n",
       "      <th>4</th>\n",
       "      <td>AAAS</td>\n",
       "      <td>Nucleus</td>\n",
       "    </tr>\n",
       "  </tbody>\n",
       "</table>\n",
       "</div>"
      ],
      "text/plain": [
       "      hgnc             Prediction\n",
       "0      A2M          Extracellular\n",
       "1  A3GALT2  Endoplasmic_reticulum\n",
       "2   A4GALT        Golgi_apparatus\n",
       "3    A4GNT        Golgi_apparatus\n",
       "4     AAAS                Nucleus"
      ]
     },
     "execution_count": 12,
     "metadata": {},
     "output_type": "execute_result"
    }
   ],
   "source": [
    "deeploc = pd.read_csv(\"./results/deeploc_filtered.tsv\", sep=\"\\t\")\n",
    "deeploc.head()"
   ]
  },
  {
   "cell_type": "markdown",
   "metadata": {},
   "source": [
    "## Overlap of proteins (predicted vs. annotated)\n",
    "3-way-venn hpa/swissprot/deeploc on protein names"
   ]
  },
  {
   "cell_type": "code",
   "execution_count": 13,
   "metadata": {},
   "outputs": [
    {
     "data": {
      "text/plain": [
       "<matplotlib_venn._common.VennDiagram at 0x7f53dfd15ba8>"
      ]
     },
     "execution_count": 13,
     "metadata": {},
     "output_type": "execute_result"
    },
    {
     "data": {
      "image/png": "[encoded data removed]",
      "text/plain": [
       "<matplotlib.figure.Figure at 0x7f53dfd0ae10>"
      ]
     },
     "metadata": {},
     "output_type": "display_data"
    }
   ],
   "source": [
    "fig, ax = subplots(figsize=(8, 8))\n",
    "venn3([set(hpa[\"hgnc\"]),set(swissprot[\"hgnc\"]), set(deeploc[\"hgnc\"])],\n",
    "      set_labels=(\"Human Protein Atlas\", \"Swissprot\", \"DeepLoc\"))"
   ]
  },
  {
   "cell_type": "markdown",
   "metadata": {},
   "source": [
    "## Overlap of locations\n",
    "3-way venn showing the agreement of Experimental Data with Prediction Data\n",
    "\n",
    "To this end, we need to map the location identifiers to each other.\n",
    "\n",
    "The location identifier per database are: "
   ]
  },
  {
   "cell_type": "code",
   "execution_count": 14,
   "metadata": {},
   "outputs": [],
   "source": [
    "all_locations = pd.concat([\n",
    "    hpa.loc[:, (\"subcellular_location\",)]\\\n",
    "        .assign(source='hpa'),\n",
    "    swissprot.loc[:, (\"subcellular_location\",)]\\\n",
    "        .assign(source='swissprot'),\n",
    "    deeploc.loc[:, (\"Prediction\",)]\\\n",
    "        .rename(columns={\"Prediction\": \"subcellular_location\"})\\\n",
    "        .assign(source=\"deeploc\")\n",
    "])\\\n",
    ".drop_duplicates()\\\n",
    ".reset_index(drop=True)"
   ]
  },
  {
   "cell_type": "code",
   "execution_count": 15,
   "metadata": {},
   "outputs": [],
   "source": [
    "all_locations.to_csv(\"./results/all_locations.tsv\", sep=\"\\t\", index=False)"
   ]
  },
  {
   "cell_type": "code",
   "execution_count": 16,
   "metadata": {},
   "outputs": [
    {
     "name": "stdout",
     "output_type": "stream",
     "text": [
      "                                  subcellular_location     source\n",
      "0                                Endoplasmic reticulum        hpa\n",
      "1                                         Mitochondria        hpa\n",
      "2                                          Nucleoplasm        hpa\n",
      "3                                              Cytosol        hpa\n",
      "4                                       Nuclear bodies        hpa\n",
      "5                                      Golgi apparatus        hpa\n",
      "6                                      Plasma membrane        hpa\n",
      "7                                           Centrosome        hpa\n",
      "8                        Microtubule organizing center        hpa\n",
      "9                                             Vesicles        hpa\n",
      "10                                             Nucleus        hpa\n",
      "11                                            Nucleoli        hpa\n",
      "12                                         Peroxisomes        hpa\n",
      "13                                           Endosomes        hpa\n",
      "14                                    Nuclear speckles        hpa\n",
      "15                                           Lysosomes        hpa\n",
      "16                                Focal adhesion sites        hpa\n",
      "17                                  Cytoplasmic bodies        hpa\n",
      "18                                      Cell Junctions        hpa\n",
      "19                                    Nuclear membrane        hpa\n",
      "20                                     Actin filaments        hpa\n",
      "21                           Nucleoli fibrillar center        hpa\n",
      "22                                        Microtubules        hpa\n",
      "23                                      Lipid droplets        hpa\n",
      "24                                  Cytokinetic bridge        hpa\n",
      "25                              Intermediate filaments        hpa\n",
      "26                                     Mitotic spindle        hpa\n",
      "27                                        Rods & Rings        hpa\n",
      "28                                             Midbody        hpa\n",
      "29                                    Microtubule ends        hpa\n",
      "30                                           Aggresome        hpa\n",
      "31                                        Midbody ring        hpa\n",
      "32                                           Cytoplasm  swissprot\n",
      "33                                             Nucleus  swissprot\n",
      "34                                     Nucleus speckle  swissprot\n",
      "35                                   Endosome membrane  swissprot\n",
      "36                                   Lysosome membrane  swissprot\n",
      "37                                            Membrane  swissprot\n",
      "38                                       Mitochondrion  swissprot\n",
      "39                                       Cell membrane  swissprot\n",
      "40                                     Cell projection  swissprot\n",
      "41                                      Nucleus matrix  swissprot\n",
      "42                                       Cell junction  swissprot\n",
      "43                   Rough endoplasmic reticulum lumen  swissprot\n",
      "44   Endoplasmic reticulum-Golgi intermediate compa...  swissprot\n",
      "45                                     Golgi apparatus  swissprot\n",
      "46                               Golgi apparatus lumen  swissprot\n",
      "47                                      Endosome lumen  swissprot\n",
      "48                                        Cell surface  swissprot\n",
      "49                                       Late endosome  swissprot\n",
      "50                                      Early endosome  swissprot\n",
      "51                      Endoplasmic reticulum membrane  swissprot\n",
      "52                               Endoplasmic reticulum  swissprot\n",
      "53                                 Cytoplasmic vesicle  swissprot\n",
      "54                                 Cytoplasmic granule  swissprot\n",
      "55                                          Melanosome  swissprot\n",
      "56                                Apical cell membrane  swissprot\n",
      "57                                            Secreted  swissprot\n",
      "58                            Golgi apparatus membrane  swissprot\n",
      "59                              Mitochondrion membrane  swissprot\n",
      "60                                    Nucleus membrane  swissprot\n",
      "61                                Mitochondrion matrix  swissprot\n",
      "62                             Early endosome membrane  swissprot\n",
      "63                                        Host nucleus  swissprot\n",
      "64                                      Host cytoplasm  swissprot\n",
      "65                        Mitochondrion inner membrane  swissprot\n",
      "66                        Mitochondrion outer membrane  swissprot\n",
      "67                                             Midbody  swissprot\n",
      "68                                            Endosome  swissprot\n",
      "69                                       Membrane raft  swissprot\n",
      "70                                     Virion membrane  swissprot\n",
      "71                                  Host cell membrane  swissprot\n",
      "72                                Host Golgi apparatus  swissprot\n",
      "73                                   Host cell surface  swissprot\n",
      "74                                          Chromosome  swissprot\n",
      "75                                  Microsome membrane  swissprot\n",
      "76                     Sarcoplasmic reticulum membrane  swissprot\n",
      "77                                       Lipid droplet  swissprot\n",
      "78                   Mitochondrion intermembrane space  swissprot\n",
      "79                         Rough endoplasmic reticulum  swissprot\n",
      "80                         Endoplasmic reticulum lumen  swissprot\n",
      "81                                          Perikaryon  swissprot\n",
      "82                        Cytoplasmic vesicle membrane  swissprot\n",
      "83                           Basolateral cell membrane  swissprot\n",
      "84                                            Lysosome  swissprot\n",
      "85                                     Virion tegument  swissprot\n",
      "86                                 Peroxisome membrane  swissprot\n",
      "87                                     Cleavage furrow  swissprot\n",
      "88                                 Endomembrane system  swissprot\n",
      "89                                    Nucleus envelope  swissprot\n",
      "90                              Late endosome membrane  swissprot\n",
      "91                                 Melanosome membrane  swissprot\n",
      "92   Endoplasmic reticulum-Golgi intermediate compa...  swissprot\n",
      "93                                              Virion  swissprot\n",
      "94                                 Host nucleus matrix  swissprot\n",
      "95   Endoplasmic reticulum-Golgi intermediate compa...  swissprot\n",
      "96                         Recycling endosome membrane  swissprot\n",
      "97                         Preautophagosomal structure  swissprot\n",
      "98                              Sarcoplasmic reticulum  swissprot\n",
      "99                               Lateral cell membrane  swissprot\n",
      "100                             Nucleus inner membrane  swissprot\n",
      "101                                         Peroxisome  swissprot\n",
      "102                                 Recycling endosome  swissprot\n",
      "103                        Photoreceptor inner segment  swissprot\n",
      "104                Host endoplasmic reticulum membrane  swissprot\n",
      "105                      Host Golgi apparatus membrane  swissprot\n",
      "106                        Host mitochondrion membrane  swissprot\n",
      "107                                          Microsome  swissprot\n",
      "108                                            Vacuole  swissprot\n",
      "109                             Nucleus outer membrane  swissprot\n",
      "110                          Cytoplasmic vesicle lumen  swissprot\n",
      "111                                     Lysosome lumen  swissprot\n",
      "112                                      Host membrane  swissprot\n",
      "113                                   Vacuole membrane  swissprot\n",
      "114                       Cytoplasmic granule membrane  swissprot\n",
      "115                                    Myelin membrane  swissprot\n",
      "116                                      Host endosome  swissprot\n",
      "117               Preautophagosomal structure membrane  swissprot\n",
      "118                                 Host mitochondrion  swissprot\n",
      "119                         Host endoplasmic reticulum  swissprot\n",
      "120                             Host endosome membrane  swissprot\n",
      "121                             Mitochondrion envelope  swissprot\n",
      "122                                       Inflammasome  swissprot\n",
      "123                           Host endomembrane system  swissprot\n",
      "124                                     Nucleus lamina  swissprot\n",
      "125               Rough endoplasmic reticulum membrane  swissprot\n",
      "126                              Host nucleus membrane  swissprot\n",
      "127                                      Extracellular    deeploc\n",
      "128                              Endoplasmic_reticulum    deeploc\n",
      "129                                    Golgi_apparatus    deeploc\n",
      "130                                            Nucleus    deeploc\n",
      "131                                      Mitochondrion    deeploc\n",
      "132                                          Cytoplasm    deeploc\n",
      "133                                      Cell_membrane    deeploc\n",
      "134                                   Lysosome/Vacuole    deeploc\n",
      "135                                         Peroxisome    deeploc\n"
     ]
    }
   ],
   "source": [
    "with pd.option_context('display.max_rows', None):\n",
    "    print(all_locations)"
   ]
  },
  {
   "cell_type": "code",
   "execution_count": null,
   "metadata": {},
   "outputs": [],
   "source": []
  }
 ],
 "metadata": {
  "kernelspec": {
   "display_name": "Python 3",
   "language": "python",
   "name": "python3"
  },
  "language_info": {
   "codemirror_mode": {
    "name": "ipython",
    "version": 3
   },
   "file_extension": ".py",
   "mimetype": "text/x-python",
   "name": "python",
   "nbconvert_exporter": "python",
   "pygments_lexer": "ipython3",
   "version": "3.6.3"
  }
 },
 "nbformat": 4,
 "nbformat_minor": 2
}
