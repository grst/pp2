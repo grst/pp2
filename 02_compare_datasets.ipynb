{
 "cells": [
  {
   "cell_type": "code",
   "execution_count": 1,
   "metadata": {},
   "outputs": [],
   "source": [
    "import pandas as pd\n",
    "from matplotlib_venn import venn3\n",
    "from pylab import * \n",
    "%matplotlib inline\n",
    "matplotlib.rc('font', size=14)"
   ]
  },
  {
   "cell_type": "markdown",
   "metadata": {},
   "source": [
    "## Load data"
   ]
  },
  {
   "cell_type": "code",
   "execution_count": 2,
   "metadata": {},
   "outputs": [
    {
     "data": {
      "text/html": [
       "<div>\n",
       "<style scoped>\n",
       "    .dataframe tbody tr th:only-of-type {\n",
       "        vertical-align: middle;\n",
       "    }\n",
       "\n",
       "    .dataframe tbody tr th {\n",
       "        vertical-align: top;\n",
       "    }\n",
       "\n",
       "    .dataframe thead th {\n",
       "        text-align: right;\n",
       "    }\n",
       "</style>\n",
       "<table border=\"1\" class=\"dataframe\">\n",
       "  <thead>\n",
       "    <tr style=\"text-align: right;\">\n",
       "      <th></th>\n",
       "      <th>hgnc</th>\n",
       "      <th>status</th>\n",
       "      <th>subcellular_location</th>\n",
       "    </tr>\n",
       "  </thead>\n",
       "  <tbody>\n",
       "    <tr>\n",
       "      <th>0</th>\n",
       "      <td>CYP51A1</td>\n",
       "      <td>Validated</td>\n",
       "      <td>Endoplasmic reticulum</td>\n",
       "    </tr>\n",
       "    <tr>\n",
       "      <th>1</th>\n",
       "      <td>BAD</td>\n",
       "      <td>Validated</td>\n",
       "      <td>Mitochondria</td>\n",
       "    </tr>\n",
       "    <tr>\n",
       "      <th>2</th>\n",
       "      <td>RBM5</td>\n",
       "      <td>Validated</td>\n",
       "      <td>Nucleoplasm</td>\n",
       "    </tr>\n",
       "    <tr>\n",
       "      <th>3</th>\n",
       "      <td>FKBP4</td>\n",
       "      <td>Validated</td>\n",
       "      <td>Cytosol</td>\n",
       "    </tr>\n",
       "    <tr>\n",
       "      <th>4</th>\n",
       "      <td>FKBP4</td>\n",
       "      <td>Validated</td>\n",
       "      <td>Nucleoplasm</td>\n",
       "    </tr>\n",
       "  </tbody>\n",
       "</table>\n",
       "</div>"
      ],
      "text/plain": [
       "      hgnc     status   subcellular_location\n",
       "0  CYP51A1  Validated  Endoplasmic reticulum\n",
       "1      BAD  Validated           Mitochondria\n",
       "2     RBM5  Validated            Nucleoplasm\n",
       "3    FKBP4  Validated                Cytosol\n",
       "4    FKBP4  Validated            Nucleoplasm"
      ]
     },
     "execution_count": 2,
     "metadata": {},
     "output_type": "execute_result"
    }
   ],
   "source": [
    "hpa = pd.read_csv(\"./results/hpa_filtered.tsv\", sep=\"\\t\")\n",
    "hpa.head()"
   ]
  },
  {
   "cell_type": "code",
   "execution_count": 3,
   "metadata": {},
   "outputs": [
    {
     "data": {
      "text/html": [
       "<div>\n",
       "<style scoped>\n",
       "    .dataframe tbody tr th:only-of-type {\n",
       "        vertical-align: middle;\n",
       "    }\n",
       "\n",
       "    .dataframe tbody tr th {\n",
       "        vertical-align: top;\n",
       "    }\n",
       "\n",
       "    .dataframe thead th {\n",
       "        text-align: right;\n",
       "    }\n",
       "</style>\n",
       "<table border=\"1\" class=\"dataframe\">\n",
       "  <thead>\n",
       "    <tr style=\"text-align: right;\">\n",
       "      <th></th>\n",
       "      <th>uniprot_id</th>\n",
       "      <th>species</th>\n",
       "      <th>hgnc</th>\n",
       "      <th>subcellular_location</th>\n",
       "      <th>annotation_evidence</th>\n",
       "    </tr>\n",
       "  </thead>\n",
       "  <tbody>\n",
       "    <tr>\n",
       "      <th>0</th>\n",
       "      <td>Q99758</td>\n",
       "      <td>Homo sapiens</td>\n",
       "      <td>ABCA3</td>\n",
       "      <td>Membrane</td>\n",
       "      <td>ECO:0000305</td>\n",
       "    </tr>\n",
       "    <tr>\n",
       "      <th>1</th>\n",
       "      <td>Q6ZNF0</td>\n",
       "      <td>Homo sapiens</td>\n",
       "      <td>ACP7</td>\n",
       "      <td>Secreted</td>\n",
       "      <td>ECO:0000305</td>\n",
       "    </tr>\n",
       "    <tr>\n",
       "      <th>2</th>\n",
       "      <td>Q6P461</td>\n",
       "      <td>Homo sapiens</td>\n",
       "      <td>ACSM6</td>\n",
       "      <td>Mitochondrion</td>\n",
       "      <td>ECO:0000305</td>\n",
       "    </tr>\n",
       "    <tr>\n",
       "      <th>3</th>\n",
       "      <td>Q9H6R3</td>\n",
       "      <td>Homo sapiens</td>\n",
       "      <td>ACSS3</td>\n",
       "      <td>Mitochondrion</td>\n",
       "      <td>ECO:0000305</td>\n",
       "    </tr>\n",
       "    <tr>\n",
       "      <th>4</th>\n",
       "      <td>Q5VUY2</td>\n",
       "      <td>Homo sapiens</td>\n",
       "      <td>AADACL4</td>\n",
       "      <td>Membrane</td>\n",
       "      <td>ECO:0000305</td>\n",
       "    </tr>\n",
       "  </tbody>\n",
       "</table>\n",
       "</div>"
      ],
      "text/plain": [
       "  uniprot_id       species     hgnc subcellular_location annotation_evidence\n",
       "0     Q99758  Homo sapiens    ABCA3             Membrane         ECO:0000305\n",
       "1     Q6ZNF0  Homo sapiens     ACP7             Secreted         ECO:0000305\n",
       "2     Q6P461  Homo sapiens    ACSM6        Mitochondrion         ECO:0000305\n",
       "3     Q9H6R3  Homo sapiens    ACSS3        Mitochondrion         ECO:0000305\n",
       "4     Q5VUY2  Homo sapiens  AADACL4             Membrane         ECO:0000305"
      ]
     },
     "execution_count": 3,
     "metadata": {},
     "output_type": "execute_result"
    }
   ],
   "source": [
    "swissprot = pd.read_csv(\"./results/swissprot_filtered.tsv\", sep=\"\\t\")\n",
    "swissprot.head()"
   ]
  },
  {
   "cell_type": "code",
   "execution_count": 4,
   "metadata": {},
   "outputs": [
    {
     "data": {
      "text/html": [
       "<div>\n",
       "<style scoped>\n",
       "    .dataframe tbody tr th:only-of-type {\n",
       "        vertical-align: middle;\n",
       "    }\n",
       "\n",
       "    .dataframe tbody tr th {\n",
       "        vertical-align: top;\n",
       "    }\n",
       "\n",
       "    .dataframe thead th {\n",
       "        text-align: right;\n",
       "    }\n",
       "</style>\n",
       "<table border=\"1\" class=\"dataframe\">\n",
       "  <thead>\n",
       "    <tr style=\"text-align: right;\">\n",
       "      <th></th>\n",
       "      <th>hgnc</th>\n",
       "      <th>Prediction</th>\n",
       "    </tr>\n",
       "  </thead>\n",
       "  <tbody>\n",
       "    <tr>\n",
       "      <th>0</th>\n",
       "      <td>A2M</td>\n",
       "      <td>Extracellular</td>\n",
       "    </tr>\n",
       "    <tr>\n",
       "      <th>1</th>\n",
       "      <td>A3GALT2</td>\n",
       "      <td>Endoplasmic_reticulum</td>\n",
       "    </tr>\n",
       "    <tr>\n",
       "      <th>2</th>\n",
       "      <td>A4GALT</td>\n",
       "      <td>Golgi_apparatus</td>\n",
       "    </tr>\n",
       "    <tr>\n",
       "      <th>3</th>\n",
       "      <td>A4GNT</td>\n",
       "      <td>Golgi_apparatus</td>\n",
       "    </tr>\n",
       "    <tr>\n",
       "      <th>4</th>\n",
       "      <td>AAAS</td>\n",
       "      <td>Nucleus</td>\n",
       "    </tr>\n",
       "  </tbody>\n",
       "</table>\n",
       "</div>"
      ],
      "text/plain": [
       "      hgnc             Prediction\n",
       "0      A2M          Extracellular\n",
       "1  A3GALT2  Endoplasmic_reticulum\n",
       "2   A4GALT        Golgi_apparatus\n",
       "3    A4GNT        Golgi_apparatus\n",
       "4     AAAS                Nucleus"
      ]
     },
     "execution_count": 4,
     "metadata": {},
     "output_type": "execute_result"
    }
   ],
   "source": [
    "deeploc = pd.read_csv(\"./results/deeploc_filtered.tsv\", sep=\"\\t\")\n",
    "deeploc.head()"
   ]
  },
  {
   "cell_type": "markdown",
   "metadata": {},
   "source": [
    "## Overlap of proteins (predicted vs. annotated)\n",
    "3-way-venn hpa/swissprot/deeploc on protein names"
   ]
  },
  {
   "cell_type": "code",
   "execution_count": 5,
   "metadata": {},
   "outputs": [
    {
     "data": {
      "text/plain": [
       "<matplotlib_venn._common.VennDiagram at 0x7f1012169a20>"
      ]
     },
     "execution_count": 5,
     "metadata": {},
     "output_type": "execute_result"
    },
    {
     "data": {
      "image/png": "[encoded data removed]",
      "text/plain": [
       "<matplotlib.figure.Figure at 0x7f10195af780>"
      ]
     },
     "metadata": {},
     "output_type": "display_data"
    }
   ],
   "source": [
    "fig, ax = subplots(figsize=(8, 8))\n",
    "venn3([set(hpa[\"hgnc\"]),set(swissprot[\"hgnc\"]), set(deeploc[\"hgnc\"])],\n",
    "      set_labels=(\"Human Protein Atlas\", \"Swissprot\", \"DeepLoc\"))"
   ]
  },
  {
   "cell_type": "markdown",
   "metadata": {},
   "source": [
    "## Overlap of locations\n",
    "3-way venn showing the agreement of Experimental Data with Prediction Data\n",
    "\n",
    "To this end, we need to map the location identifiers to each other.\n",
    "\n",
    "The location identifier per database are: "
   ]
  },
  {
   "cell_type": "code",
   "execution_count": 6,
   "metadata": {},
   "outputs": [],
   "source": [
    "all_locations = pd.concat([\n",
    "    hpa.loc[:, (\"subcellular_location\",)]\\\n",
    "        .assign(source='hpa'),\n",
    "    swissprot.loc[:, (\"subcellular_location\",)]\\\n",
    "        .assign(source='swissprot'),\n",
    "    deeploc.loc[:, (\"Prediction\",)]\\\n",
    "        .rename(columns={\"Prediction\": \"subcellular_location\"})\\\n",
    "        .assign(source=\"deeploc\")\n",
    "])\\\n",
    ".drop_duplicates()\\\n",
    ".reset_index(drop=True)"
   ]
  },
  {
   "cell_type": "code",
   "execution_count": 7,
   "metadata": {},
   "outputs": [],
   "source": [
    "all_locations.to_csv(\"./results/all_locations.tsv\", sep=\"\\t\", index=False)"
   ]
  },
  {
   "cell_type": "code",
   "execution_count": 8,
   "metadata": {},
   "outputs": [
    {
     "name": "stdout",
     "output_type": "stream",
     "text": [
      "                                  subcellular_location     source\n",
      "0                                Endoplasmic reticulum        hpa\n",
      "1                                         Mitochondria        hpa\n",
      "2                                          Nucleoplasm        hpa\n",
      "3                                              Cytosol        hpa\n",
      "4                                       Nuclear bodies        hpa\n",
      "5                                      Golgi apparatus        hpa\n",
      "6                                      Plasma membrane        hpa\n",
      "7                                           Centrosome        hpa\n",
      "8                        Microtubule organizing center        hpa\n",
      "9                                             Vesicles        hpa\n",
      "10                                             Nucleus        hpa\n",
      "11                                            Nucleoli        hpa\n",
      "12                                         Peroxisomes        hpa\n",
      "13                                           Endosomes        hpa\n",
      "14                                    Nuclear speckles        hpa\n",
      "15                                           Lysosomes        hpa\n",
      "16                                Focal adhesion sites        hpa\n",
      "17                                  Cytoplasmic bodies        hpa\n",
      "18                                      Cell Junctions        hpa\n",
      "19                                    Nuclear membrane        hpa\n",
      "20                                     Actin filaments        hpa\n",
      "21                           Nucleoli fibrillar center        hpa\n",
      "22                                        Microtubules        hpa\n",
      "23                                      Lipid droplets        hpa\n",
      "24                                  Cytokinetic bridge        hpa\n",
      "25                              Intermediate filaments        hpa\n",
      "26                                     Mitotic spindle        hpa\n",
      "27                                        Rods & Rings        hpa\n",
      "28                                             Midbody        hpa\n",
      "29                                    Microtubule ends        hpa\n",
      "30                                           Aggresome        hpa\n",
      "31                                        Midbody ring        hpa\n",
      "32                                            Membrane  swissprot\n",
      "33                                            Secreted  swissprot\n",
      "34                                       Mitochondrion  swissprot\n",
      "35                                           Cytoplasm  swissprot\n",
      "36                      Endoplasmic reticulum membrane  swissprot\n",
      "37                                       Cell membrane  swissprot\n",
      "38                                     Cell projection  swissprot\n",
      "39                                          Chromosome  swissprot\n",
      "40                                             Nucleus  swissprot\n",
      "41                        Mitochondrion inner membrane  swissprot\n",
      "42                            Golgi apparatus membrane  swissprot\n",
      "43                                       Cell junction  swissprot\n",
      "44                              Late endosome membrane  swissprot\n",
      "45                                    Nucleus membrane  swissprot\n",
      "46                                 Cytoplasmic vesicle  swissprot\n",
      "47                                  Host cell membrane  swissprot\n",
      "48                       Host Golgi apparatus membrane  swissprot\n",
      "49                 Host endoplasmic reticulum membrane  swissprot\n",
      "50                              Host endosome membrane  swissprot\n",
      "51                                     Virion membrane  swissprot\n",
      "52                             Early endosome membrane  swissprot\n",
      "53                                       Host membrane  swissprot\n",
      "54                        Cytoplasmic granule membrane  swissprot\n",
      "55                     Sarcoplasmic reticulum membrane  swissprot\n",
      "56                                     Nucleus speckle  swissprot\n",
      "57                                 Endomembrane system  swissprot\n",
      "58                                              Virion  swissprot\n",
      "59                                            Lysosome  swissprot\n",
      "60                                Apical cell membrane  swissprot\n",
      "61                                   Endosome membrane  swissprot\n",
      "62                                     Golgi apparatus  swissprot\n",
      "63                                   Lysosome membrane  swissprot\n",
      "64                                      Host cytoplasm  swissprot\n",
      "65                                  Microsome membrane  swissprot\n",
      "66                                          Peroxisome  swissprot\n",
      "67                        Sarcoplasmic reticulum lumen  swissprot\n",
      "68                        Cytoplasmic vesicle membrane  swissprot\n",
      "69                   Mitochondrion intermembrane space  swissprot\n",
      "70                              Mitochondrion membrane  swissprot\n",
      "71                                       Lipid droplet  swissprot\n",
      "72                               Endoplasmic reticulum  swissprot\n",
      "73                                Mitochondrion matrix  swissprot\n",
      "74                        Mitochondrion outer membrane  swissprot\n",
      "75                              Sarcoplasmic reticulum  swissprot\n",
      "76                                            Endosome  swissprot\n",
      "77                                        Host nucleus  swissprot\n",
      "78                              Nucleus inner membrane  swissprot\n",
      "79                              Nucleus outer membrane  swissprot\n",
      "80                                      Early endosome  swissprot\n",
      "81                               Golgi apparatus lumen  swissprot\n",
      "82                                        Cell surface  swissprot\n",
      "83                         Recycling endosome membrane  swissprot\n",
      "84                                     Virion tegument  swissprot\n",
      "85                                       Late endosome  swissprot\n",
      "86                                 Peroxisome membrane  swissprot\n",
      "87                           Basolateral cell membrane  swissprot\n",
      "88                                  Recycling endosome  swissprot\n",
      "89                         Host late endosome membrane  swissprot\n",
      "90                         Endoplasmic reticulum lumen  swissprot\n",
      "91                           Cytoplasmic vesicle lumen  swissprot\n",
      "92   Host endoplasmic reticulum-Golgi intermediate ...  swissprot\n",
      "93                                       Extracellular    deeploc\n",
      "94                               Endoplasmic_reticulum    deeploc\n",
      "95                                     Golgi_apparatus    deeploc\n",
      "96                                             Nucleus    deeploc\n",
      "97                                       Mitochondrion    deeploc\n",
      "98                                           Cytoplasm    deeploc\n",
      "99                                       Cell_membrane    deeploc\n",
      "100                                   Lysosome/Vacuole    deeploc\n",
      "101                                         Peroxisome    deeploc\n"
     ]
    }
   ],
   "source": [
    "with pd.option_context('display.max_rows', None):\n",
    "    print(all_locations)"
   ]
  },
  {
   "cell_type": "code",
   "execution_count": null,
   "metadata": {},
   "outputs": [],
   "source": []
  }
 ],
 "metadata": {
  "kernelspec": {
   "display_name": "Python 3",
   "language": "python",
   "name": "python3"
  },
  "language_info": {
   "codemirror_mode": {
    "name": "ipython",
    "version": 3
   },
   "file_extension": ".py",
   "mimetype": "text/x-python",
   "name": "python",
   "nbconvert_exporter": "python",
   "pygments_lexer": "ipython3",
   "version": "3.6.3"
  }
 },
 "nbformat": 4,
 "nbformat_minor": 2
}
